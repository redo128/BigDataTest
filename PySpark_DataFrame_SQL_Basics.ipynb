{
  "nbformat": 4,
  "nbformat_minor": 0,
  "metadata": {
    "colab": {
      "provenance": [],
      "include_colab_link": true
    },
    "kernelspec": {
      "name": "python3",
      "display_name": "Python 3"
    },
    "language_info": {
      "name": "python"
    }
  },
  "cells": [
    {
      "cell_type": "markdown",
      "metadata": {
        "id": "view-in-github",
        "colab_type": "text"
      },
      "source": [
        "<a href=\"https://colab.research.google.com/github/redo128/BigDataTest/blob/main/PySpark_DataFrame_SQL_Basics.ipynb\" target=\"_parent\"><img src=\"https://colab.research.google.com/assets/colab-badge.svg\" alt=\"Open In Colab\"/></a>"
      ]
    },
    {
      "cell_type": "code",
      "metadata": {
        "id": "fXZCYjBYwniI"
      },
      "source": [
        "!apt-get install openjdk-8-jdk-headless -qq > /dev/null\n",
        "!wget -q http://archive.apache.org/dist/spark/spark-3.1.1/spark-3.1.1-bin-hadoop3.2.tgz\n",
        "!tar xf spark-3.1.1-bin-hadoop3.2.tgz\n",
        "!pip install -q findspark"
      ],
      "execution_count": null,
      "outputs": []
    },
    {
      "cell_type": "code",
      "metadata": {
        "id": "hD156pX_w9Xv"
      },
      "source": [
        "import os\n",
        "os.environ[\"JAVA_HOME\"] = \"/usr/lib/jvm/java-8-openjdk-amd64\"\n",
        "os.environ[\"SPARK_HOME\"] = \"/content/spark-3.1.1-bin-hadoop3.2\""
      ],
      "execution_count": null,
      "outputs": []
    },
    {
      "cell_type": "code",
      "metadata": {
        "colab": {
          "base_uri": "https://localhost:8080/",
          "height": 219
        },
        "id": "5AY9L0LYw-21",
        "outputId": "d99f79b6-c332-4c6a-d2b8-65924443f680"
      },
      "source": [
        "import findspark\n",
        "findspark.init()\n",
        "from pyspark.sql import SparkSession\n",
        "spark = SparkSession.builder.master(\"local[*]\").getOrCreate()\n",
        "spark.conf.set(\"spark.sql.repl.eagerEval.enabled\", True) # Property used to format output tables better\n",
        "spark"
      ],
      "execution_count": null,
      "outputs": [
        {
          "output_type": "execute_result",
          "data": {
            "text/plain": [
              "<pyspark.sql.session.SparkSession at 0x7f93541997b0>"
            ],
            "text/html": [
              "\n",
              "            <div>\n",
              "                <p><b>SparkSession - in-memory</b></p>\n",
              "                \n",
              "        <div>\n",
              "            <p><b>SparkContext</b></p>\n",
              "\n",
              "            <p><a href=\"http://8788223957e4:4040\">Spark UI</a></p>\n",
              "\n",
              "            <dl>\n",
              "              <dt>Version</dt>\n",
              "                <dd><code>v3.1.1</code></dd>\n",
              "              <dt>Master</dt>\n",
              "                <dd><code>local[*]</code></dd>\n",
              "              <dt>AppName</dt>\n",
              "                <dd><code>pyspark-shell</code></dd>\n",
              "            </dl>\n",
              "        </div>\n",
              "        \n",
              "            </div>\n",
              "        "
            ]
          },
          "metadata": {},
          "execution_count": 36
        }
      ]
    },
    {
      "cell_type": "code",
      "metadata": {
        "colab": {
          "base_uri": "https://localhost:8080/",
          "height": 878
        },
        "id": "IVe7-cxBxAKA",
        "outputId": "cb647e84-41c1-43cb-9bf2-f9a8261acc82"
      },
      "source": [
        "# Load the csv into a dataframe\n",
        "data_df = spark.read.csv(\"annual-enterprise-survey-2021-financial-year-provisional-csv.csv\", header=True, inferSchema=True)\n",
        "data_df"
      ],
      "execution_count": null,
      "outputs": [
        {
          "output_type": "execute_result",
          "data": {
            "text/plain": [
              "+----+---------------------------+--------------------+--------------------+------------------+-------------+--------------------+--------------------+---------+----------------------+\n",
              "|Year|Industry_aggregation_NZSIOC|Industry_code_NZSIOC|Industry_name_NZSIOC|             Units|Variable_code|       Variable_name|   Variable_category|    Value|Industry_code_ANZSIC06|\n",
              "+----+---------------------------+--------------------+--------------------+------------------+-------------+--------------------+--------------------+---------+----------------------+\n",
              "|2021|                    Level 1|               99999|      All industries|Dollars (millions)|          H01|        Total income|Financial perform...|  757,504|  ANZSIC06 division...|\n",
              "|2021|                    Level 1|               99999|      All industries|Dollars (millions)|          H04|Sales, government...|Financial perform...|  674,890|  ANZSIC06 division...|\n",
              "|2021|                    Level 1|               99999|      All industries|Dollars (millions)|          H05|Interest, dividen...|Financial perform...|   49,593|  ANZSIC06 division...|\n",
              "|2021|                    Level 1|               99999|      All industries|Dollars (millions)|          H07|Non-operating income|Financial perform...|   33,020|  ANZSIC06 division...|\n",
              "|2021|                    Level 1|               99999|      All industries|Dollars (millions)|          H08|   Total expenditure|Financial perform...|  654,404|  ANZSIC06 division...|\n",
              "|2021|                    Level 1|               99999|      All industries|Dollars (millions)|          H09|Interest and dona...|Financial perform...|   26,138|  ANZSIC06 division...|\n",
              "|2021|                    Level 1|               99999|      All industries|Dollars (millions)|          H10|      Indirect taxes|Financial perform...|    6,991|  ANZSIC06 division...|\n",
              "|2021|                    Level 1|               99999|      All industries|Dollars (millions)|          H11|        Depreciation|Financial perform...|   27,801|  ANZSIC06 division...|\n",
              "|2021|                    Level 1|               99999|      All industries|Dollars (millions)|          H12|Salaries and wage...|Financial perform...|  123,620|  ANZSIC06 division...|\n",
              "|2021|                    Level 1|               99999|      All industries|Dollars (millions)|          H13|Redundancy and se...|Financial perform...|      275|  ANZSIC06 division...|\n",
              "|2021|                    Level 1|               99999|      All industries|Dollars (millions)|          H14|Salaries and wage...|Financial perform...|    2,085|  ANZSIC06 division...|\n",
              "|2021|                    Level 1|               99999|      All industries|Dollars (millions)|          H19|Purchases and oth...|Financial perform...|  452,963|  ANZSIC06 division...|\n",
              "|2021|                    Level 1|               99999|      All industries|Dollars (millions)|          H20|Non-operating exp...|Financial perform...|   14,806|  ANZSIC06 division...|\n",
              "|2021|                    Level 1|               99999|      All industries|Dollars (millions)|          H21|      Opening stocks|Financial perform...|   68,896|  ANZSIC06 division...|\n",
              "|2021|                    Level 1|               99999|      All industries|Dollars (millions)|          H22|      Closing stocks|Financial perform...|   69,127|  ANZSIC06 division...|\n",
              "|2021|                    Level 1|               99999|      All industries|Dollars (millions)|          H23|Surplus before in...|Financial perform...|  103,330|  ANZSIC06 division...|\n",
              "|2021|                    Level 1|               99999|      All industries|Dollars (millions)|          H24|        Total assets|  Financial position|2,512,677|  ANZSIC06 division...|\n",
              "|2021|                    Level 1|               99999|      All industries|Dollars (millions)|          H25|      Current assets|  Financial position|  730,587|  ANZSIC06 division...|\n",
              "|2021|                    Level 1|               99999|      All industries|Dollars (millions)|          H26|Fixed tangible as...|  Financial position|  591,351|  ANZSIC06 division...|\n",
              "|2021|                    Level 1|               99999|      All industries|Dollars (millions)|          H29|        Other assets|  Financial position|1,190,739|  ANZSIC06 division...|\n",
              "+----+---------------------------+--------------------+--------------------+------------------+-------------+--------------------+--------------------+---------+----------------------+\n",
              "only showing top 20 rows"
            ],
            "text/html": [
              "<table border='1'>\n",
              "<tr><th>Year</th><th>Industry_aggregation_NZSIOC</th><th>Industry_code_NZSIOC</th><th>Industry_name_NZSIOC</th><th>Units</th><th>Variable_code</th><th>Variable_name</th><th>Variable_category</th><th>Value</th><th>Industry_code_ANZSIC06</th></tr>\n",
              "<tr><td>2021</td><td>Level 1</td><td>99999</td><td>All industries</td><td>Dollars (millions)</td><td>H01</td><td>Total income</td><td>Financial perform...</td><td>757,504</td><td>ANZSIC06 division...</td></tr>\n",
              "<tr><td>2021</td><td>Level 1</td><td>99999</td><td>All industries</td><td>Dollars (millions)</td><td>H04</td><td>Sales, government...</td><td>Financial perform...</td><td>674,890</td><td>ANZSIC06 division...</td></tr>\n",
              "<tr><td>2021</td><td>Level 1</td><td>99999</td><td>All industries</td><td>Dollars (millions)</td><td>H05</td><td>Interest, dividen...</td><td>Financial perform...</td><td>49,593</td><td>ANZSIC06 division...</td></tr>\n",
              "<tr><td>2021</td><td>Level 1</td><td>99999</td><td>All industries</td><td>Dollars (millions)</td><td>H07</td><td>Non-operating income</td><td>Financial perform...</td><td>33,020</td><td>ANZSIC06 division...</td></tr>\n",
              "<tr><td>2021</td><td>Level 1</td><td>99999</td><td>All industries</td><td>Dollars (millions)</td><td>H08</td><td>Total expenditure</td><td>Financial perform...</td><td>654,404</td><td>ANZSIC06 division...</td></tr>\n",
              "<tr><td>2021</td><td>Level 1</td><td>99999</td><td>All industries</td><td>Dollars (millions)</td><td>H09</td><td>Interest and dona...</td><td>Financial perform...</td><td>26,138</td><td>ANZSIC06 division...</td></tr>\n",
              "<tr><td>2021</td><td>Level 1</td><td>99999</td><td>All industries</td><td>Dollars (millions)</td><td>H10</td><td>Indirect taxes</td><td>Financial perform...</td><td>6,991</td><td>ANZSIC06 division...</td></tr>\n",
              "<tr><td>2021</td><td>Level 1</td><td>99999</td><td>All industries</td><td>Dollars (millions)</td><td>H11</td><td>Depreciation</td><td>Financial perform...</td><td>27,801</td><td>ANZSIC06 division...</td></tr>\n",
              "<tr><td>2021</td><td>Level 1</td><td>99999</td><td>All industries</td><td>Dollars (millions)</td><td>H12</td><td>Salaries and wage...</td><td>Financial perform...</td><td>123,620</td><td>ANZSIC06 division...</td></tr>\n",
              "<tr><td>2021</td><td>Level 1</td><td>99999</td><td>All industries</td><td>Dollars (millions)</td><td>H13</td><td>Redundancy and se...</td><td>Financial perform...</td><td>275</td><td>ANZSIC06 division...</td></tr>\n",
              "<tr><td>2021</td><td>Level 1</td><td>99999</td><td>All industries</td><td>Dollars (millions)</td><td>H14</td><td>Salaries and wage...</td><td>Financial perform...</td><td>2,085</td><td>ANZSIC06 division...</td></tr>\n",
              "<tr><td>2021</td><td>Level 1</td><td>99999</td><td>All industries</td><td>Dollars (millions)</td><td>H19</td><td>Purchases and oth...</td><td>Financial perform...</td><td>452,963</td><td>ANZSIC06 division...</td></tr>\n",
              "<tr><td>2021</td><td>Level 1</td><td>99999</td><td>All industries</td><td>Dollars (millions)</td><td>H20</td><td>Non-operating exp...</td><td>Financial perform...</td><td>14,806</td><td>ANZSIC06 division...</td></tr>\n",
              "<tr><td>2021</td><td>Level 1</td><td>99999</td><td>All industries</td><td>Dollars (millions)</td><td>H21</td><td>Opening stocks</td><td>Financial perform...</td><td>68,896</td><td>ANZSIC06 division...</td></tr>\n",
              "<tr><td>2021</td><td>Level 1</td><td>99999</td><td>All industries</td><td>Dollars (millions)</td><td>H22</td><td>Closing stocks</td><td>Financial perform...</td><td>69,127</td><td>ANZSIC06 division...</td></tr>\n",
              "<tr><td>2021</td><td>Level 1</td><td>99999</td><td>All industries</td><td>Dollars (millions)</td><td>H23</td><td>Surplus before in...</td><td>Financial perform...</td><td>103,330</td><td>ANZSIC06 division...</td></tr>\n",
              "<tr><td>2021</td><td>Level 1</td><td>99999</td><td>All industries</td><td>Dollars (millions)</td><td>H24</td><td>Total assets</td><td>Financial position</td><td>2,512,677</td><td>ANZSIC06 division...</td></tr>\n",
              "<tr><td>2021</td><td>Level 1</td><td>99999</td><td>All industries</td><td>Dollars (millions)</td><td>H25</td><td>Current assets</td><td>Financial position</td><td>730,587</td><td>ANZSIC06 division...</td></tr>\n",
              "<tr><td>2021</td><td>Level 1</td><td>99999</td><td>All industries</td><td>Dollars (millions)</td><td>H26</td><td>Fixed tangible as...</td><td>Financial position</td><td>591,351</td><td>ANZSIC06 division...</td></tr>\n",
              "<tr><td>2021</td><td>Level 1</td><td>99999</td><td>All industries</td><td>Dollars (millions)</td><td>H29</td><td>Other assets</td><td>Financial position</td><td>1,190,739</td><td>ANZSIC06 division...</td></tr>\n",
              "</table>\n",
              "only showing top 20 rows\n"
            ]
          },
          "metadata": {},
          "execution_count": 37
        }
      ]
    },
    {
      "cell_type": "code",
      "metadata": {
        "colab": {
          "base_uri": "https://localhost:8080/"
        },
        "id": "K02d6sPwxtnz",
        "outputId": "e45fc429-bc63-407e-9d87-a6caa0857f19"
      },
      "source": [
        "data_df.printSchema()"
      ],
      "execution_count": null,
      "outputs": [
        {
          "output_type": "stream",
          "name": "stdout",
          "text": [
            "root\n",
            " |-- Year: integer (nullable = true)\n",
            " |-- Industry_aggregation_NZSIOC: string (nullable = true)\n",
            " |-- Industry_code_NZSIOC: string (nullable = true)\n",
            " |-- Industry_name_NZSIOC: string (nullable = true)\n",
            " |-- Units: string (nullable = true)\n",
            " |-- Variable_code: string (nullable = true)\n",
            " |-- Variable_name: string (nullable = true)\n",
            " |-- Variable_category: string (nullable = true)\n",
            " |-- Value: string (nullable = true)\n",
            " |-- Industry_code_ANZSIC06: string (nullable = true)\n",
            "\n"
          ]
        }
      ]
    },
    {
      "cell_type": "code",
      "metadata": {
        "colab": {
          "base_uri": "https://localhost:8080/",
          "height": 262
        },
        "id": "jpO-UsbaySWW",
        "outputId": "5e7ad051-8d3f-43d6-bbd1-3de1d8dd5fc8"
      },
      "source": [
        "data_df.limit(5)"
      ],
      "execution_count": null,
      "outputs": [
        {
          "output_type": "execute_result",
          "data": {
            "text/plain": [
              "+----+---------------------------+--------------------+--------------------+------------------+-------------+--------------------+--------------------+-------+----------------------+\n",
              "|Year|Industry_aggregation_NZSIOC|Industry_code_NZSIOC|Industry_name_NZSIOC|             Units|Variable_code|       Variable_name|   Variable_category|  Value|Industry_code_ANZSIC06|\n",
              "+----+---------------------------+--------------------+--------------------+------------------+-------------+--------------------+--------------------+-------+----------------------+\n",
              "|2021|                    Level 1|               99999|      All industries|Dollars (millions)|          H01|        Total income|Financial perform...|757,504|  ANZSIC06 division...|\n",
              "|2021|                    Level 1|               99999|      All industries|Dollars (millions)|          H04|Sales, government...|Financial perform...|674,890|  ANZSIC06 division...|\n",
              "|2021|                    Level 1|               99999|      All industries|Dollars (millions)|          H05|Interest, dividen...|Financial perform...| 49,593|  ANZSIC06 division...|\n",
              "|2021|                    Level 1|               99999|      All industries|Dollars (millions)|          H07|Non-operating income|Financial perform...| 33,020|  ANZSIC06 division...|\n",
              "|2021|                    Level 1|               99999|      All industries|Dollars (millions)|          H08|   Total expenditure|Financial perform...|654,404|  ANZSIC06 division...|\n",
              "+----+---------------------------+--------------------+--------------------+------------------+-------------+--------------------+--------------------+-------+----------------------+"
            ],
            "text/html": [
              "<table border='1'>\n",
              "<tr><th>Year</th><th>Industry_aggregation_NZSIOC</th><th>Industry_code_NZSIOC</th><th>Industry_name_NZSIOC</th><th>Units</th><th>Variable_code</th><th>Variable_name</th><th>Variable_category</th><th>Value</th><th>Industry_code_ANZSIC06</th></tr>\n",
              "<tr><td>2021</td><td>Level 1</td><td>99999</td><td>All industries</td><td>Dollars (millions)</td><td>H01</td><td>Total income</td><td>Financial perform...</td><td>757,504</td><td>ANZSIC06 division...</td></tr>\n",
              "<tr><td>2021</td><td>Level 1</td><td>99999</td><td>All industries</td><td>Dollars (millions)</td><td>H04</td><td>Sales, government...</td><td>Financial perform...</td><td>674,890</td><td>ANZSIC06 division...</td></tr>\n",
              "<tr><td>2021</td><td>Level 1</td><td>99999</td><td>All industries</td><td>Dollars (millions)</td><td>H05</td><td>Interest, dividen...</td><td>Financial perform...</td><td>49,593</td><td>ANZSIC06 division...</td></tr>\n",
              "<tr><td>2021</td><td>Level 1</td><td>99999</td><td>All industries</td><td>Dollars (millions)</td><td>H07</td><td>Non-operating income</td><td>Financial perform...</td><td>33,020</td><td>ANZSIC06 division...</td></tr>\n",
              "<tr><td>2021</td><td>Level 1</td><td>99999</td><td>All industries</td><td>Dollars (millions)</td><td>H08</td><td>Total expenditure</td><td>Financial perform...</td><td>654,404</td><td>ANZSIC06 division...</td></tr>\n",
              "</table>\n"
            ]
          },
          "metadata": {},
          "execution_count": 39
        }
      ]
    },
    {
      "cell_type": "code",
      "metadata": {
        "colab": {
          "base_uri": "https://localhost:8080/",
          "height": 156
        },
        "id": "bLVEE0p8yveJ",
        "outputId": "063a1170-33e6-4e66-e3c9-3171afac6ff2"
      },
      "source": [
        "data_df.select('Variable_code', 'Units').limit(5)"
      ],
      "execution_count": null,
      "outputs": [
        {
          "output_type": "execute_result",
          "data": {
            "text/plain": [
              "+-------------+------------------+\n",
              "|Variable_code|             Units|\n",
              "+-------------+------------------+\n",
              "|          H01|Dollars (millions)|\n",
              "|          H04|Dollars (millions)|\n",
              "|          H05|Dollars (millions)|\n",
              "|          H07|Dollars (millions)|\n",
              "|          H08|Dollars (millions)|\n",
              "+-------------+------------------+"
            ],
            "text/html": [
              "<table border='1'>\n",
              "<tr><th>Variable_code</th><th>Units</th></tr>\n",
              "<tr><td>H01</td><td>Dollars (millions)</td></tr>\n",
              "<tr><td>H04</td><td>Dollars (millions)</td></tr>\n",
              "<tr><td>H05</td><td>Dollars (millions)</td></tr>\n",
              "<tr><td>H07</td><td>Dollars (millions)</td></tr>\n",
              "<tr><td>H08</td><td>Dollars (millions)</td></tr>\n",
              "</table>\n"
            ]
          },
          "metadata": {},
          "execution_count": 40
        }
      ]
    },
    {
      "cell_type": "code",
      "metadata": {
        "colab": {
          "base_uri": "https://localhost:8080/",
          "height": 262
        },
        "id": "NPMDjhkby-0i",
        "outputId": "a0b550ce-ebc8-4f20-94dd-4b2863650f86"
      },
      "source": [
        "data_df.where((data_df.Value > 300) & (data_df.Variable_code == \"H01\")).limit(5)"
      ],
      "execution_count": null,
      "outputs": [
        {
          "output_type": "execute_result",
          "data": {
            "text/plain": [
              "+----+---------------------------+--------------------+--------------------+------------------+-------------+-------------+--------------------+-----+----------------------+\n",
              "|Year|Industry_aggregation_NZSIOC|Industry_code_NZSIOC|Industry_name_NZSIOC|             Units|Variable_code|Variable_name|   Variable_category|Value|Industry_code_ANZSIC06|\n",
              "+----+---------------------------+--------------------+--------------------+------------------+-------------+-------------+--------------------+-----+----------------------+\n",
              "|2021|                    Level 4|               CC212|Clothing, Knitted...|Dollars (millions)|          H01| Total income|Financial perform...|  454|  ANZSIC06 groups C...|\n",
              "|2021|                    Level 4|               CC912| Other Manufacturing|Dollars (millions)|          H01| Total income|Financial perform...|  975|   ANZSIC06 group C259|\n",
              "|2021|                    Level 4|               MN211|Travel Agency and...|Dollars (millions)|          H01| Total income|Financial perform...|  491|   ANZSIC06 group N722|\n",
              "|2021|                    Level 4|               PP112|    School Education|Dollars (millions)|          H01| Total income|Financial perform...|  823|   ANZSIC06 group P802|\n",
              "|2021|                    Level 4|               PP113|  Tertiary Education|Dollars (millions)|          H01| Total income|Financial perform...|  807|   ANZSIC06 group P810|\n",
              "+----+---------------------------+--------------------+--------------------+------------------+-------------+-------------+--------------------+-----+----------------------+"
            ],
            "text/html": [
              "<table border='1'>\n",
              "<tr><th>Year</th><th>Industry_aggregation_NZSIOC</th><th>Industry_code_NZSIOC</th><th>Industry_name_NZSIOC</th><th>Units</th><th>Variable_code</th><th>Variable_name</th><th>Variable_category</th><th>Value</th><th>Industry_code_ANZSIC06</th></tr>\n",
              "<tr><td>2021</td><td>Level 4</td><td>CC212</td><td>Clothing, Knitted...</td><td>Dollars (millions)</td><td>H01</td><td>Total income</td><td>Financial perform...</td><td>454</td><td>ANZSIC06 groups C...</td></tr>\n",
              "<tr><td>2021</td><td>Level 4</td><td>CC912</td><td>Other Manufacturing</td><td>Dollars (millions)</td><td>H01</td><td>Total income</td><td>Financial perform...</td><td>975</td><td>ANZSIC06 group C259</td></tr>\n",
              "<tr><td>2021</td><td>Level 4</td><td>MN211</td><td>Travel Agency and...</td><td>Dollars (millions)</td><td>H01</td><td>Total income</td><td>Financial perform...</td><td>491</td><td>ANZSIC06 group N722</td></tr>\n",
              "<tr><td>2021</td><td>Level 4</td><td>PP112</td><td>School Education</td><td>Dollars (millions)</td><td>H01</td><td>Total income</td><td>Financial perform...</td><td>823</td><td>ANZSIC06 group P802</td></tr>\n",
              "<tr><td>2021</td><td>Level 4</td><td>PP113</td><td>Tertiary Education</td><td>Dollars (millions)</td><td>H01</td><td>Total income</td><td>Financial perform...</td><td>807</td><td>ANZSIC06 group P810</td></tr>\n",
              "</table>\n"
            ]
          },
          "metadata": {},
          "execution_count": 41
        }
      ]
    },
    {
      "cell_type": "code",
      "metadata": {
        "colab": {
          "base_uri": "https://localhost:8080/",
          "height": 65
        },
        "id": "GEHGy5_hzXkh",
        "outputId": "30bef1e0-b686-444e-f7b4-25ef33ca1df8"
      },
      "source": [
        "data_df.agg({'Value':'avg'})"
      ],
      "execution_count": null,
      "outputs": [
        {
          "output_type": "execute_result",
          "data": {
            "text/plain": [
              "+-----------------+\n",
              "|       avg(Value)|\n",
              "+-----------------+\n",
              "|190.8764624317532|\n",
              "+-----------------+"
            ],
            "text/html": [
              "<table border='1'>\n",
              "<tr><th>avg(Value)</th></tr>\n",
              "<tr><td>190.8764624317532</td></tr>\n",
              "</table>\n"
            ]
          },
          "metadata": {},
          "execution_count": 42
        }
      ]
    },
    {
      "cell_type": "code",
      "metadata": {
        "colab": {
          "base_uri": "https://localhost:8080/",
          "height": 511
        },
        "id": "G2V25e_y0JAg",
        "outputId": "5b49c69a-6174-4e4b-e582-013df965bf13"
      },
      "source": [
        "data_df.groupBy('Industry_code_NZSIOC').agg({'value':'avg'}).orderBy('Industry_code_NZSIOC')"
      ],
      "execution_count": null,
      "outputs": [
        {
          "output_type": "execute_result",
          "data": {
            "text/plain": [
              "+--------------------+------------------+\n",
              "|Industry_code_NZSIOC|        avg(value)|\n",
              "+--------------------+------------------+\n",
              "|               99999| 77.11111111111111|\n",
              "|                  AA|166.97727272727272|\n",
              "|                AA11|179.32867132867133|\n",
              "|               AA111|179.32867132867133|\n",
              "|                AA12|241.05357142857142|\n",
              "|               AA121|241.05357142857142|\n",
              "|                AA13|139.85148514851485|\n",
              "|               AA131|139.85148514851485|\n",
              "|                AA14| 170.2251655629139|\n",
              "|               AA141| 170.2251655629139|\n",
              "|                AA21| 134.6590909090909|\n",
              "|               AA211| 134.6590909090909|\n",
              "|                AA31|239.69035532994923|\n",
              "|                AA32|144.28671328671328|\n",
              "|                  BB|254.61068702290078|\n",
              "|                  CC|207.94623655913978|\n",
              "|                CC15| 165.8930817610063|\n",
              "|               CC151| 165.8930817610063|\n",
              "|                CC21|195.27868852459017|\n",
              "|               CC211|158.45901639344262|\n",
              "+--------------------+------------------+\n",
              "only showing top 20 rows"
            ],
            "text/html": [
              "<table border='1'>\n",
              "<tr><th>Industry_code_NZSIOC</th><th>avg(value)</th></tr>\n",
              "<tr><td>99999</td><td>77.11111111111111</td></tr>\n",
              "<tr><td>AA</td><td>166.97727272727272</td></tr>\n",
              "<tr><td>AA11</td><td>179.32867132867133</td></tr>\n",
              "<tr><td>AA111</td><td>179.32867132867133</td></tr>\n",
              "<tr><td>AA12</td><td>241.05357142857142</td></tr>\n",
              "<tr><td>AA121</td><td>241.05357142857142</td></tr>\n",
              "<tr><td>AA13</td><td>139.85148514851485</td></tr>\n",
              "<tr><td>AA131</td><td>139.85148514851485</td></tr>\n",
              "<tr><td>AA14</td><td>170.2251655629139</td></tr>\n",
              "<tr><td>AA141</td><td>170.2251655629139</td></tr>\n",
              "<tr><td>AA21</td><td>134.6590909090909</td></tr>\n",
              "<tr><td>AA211</td><td>134.6590909090909</td></tr>\n",
              "<tr><td>AA31</td><td>239.69035532994923</td></tr>\n",
              "<tr><td>AA32</td><td>144.28671328671328</td></tr>\n",
              "<tr><td>BB</td><td>254.61068702290078</td></tr>\n",
              "<tr><td>CC</td><td>207.94623655913978</td></tr>\n",
              "<tr><td>CC15</td><td>165.8930817610063</td></tr>\n",
              "<tr><td>CC151</td><td>165.8930817610063</td></tr>\n",
              "<tr><td>CC21</td><td>195.27868852459017</td></tr>\n",
              "<tr><td>CC211</td><td>158.45901639344262</td></tr>\n",
              "</table>\n",
              "only showing top 20 rows\n"
            ]
          },
          "metadata": {},
          "execution_count": 43
        }
      ]
    },
    {
      "cell_type": "code",
      "metadata": {
        "colab": {
          "base_uri": "https://localhost:8080/",
          "height": 65
        },
        "id": "PJn-tWnT0k-a",
        "outputId": "b1b88970-bbc8-46df-b031-c65c86f2a71f"
      },
      "source": [
        "data_df.filter(data_df.Variable_code == \"H01\").agg({'Value':'avg'})"
      ],
      "execution_count": null,
      "outputs": [
        {
          "output_type": "execute_result",
          "data": {
            "text/plain": [
              "+-----------------+\n",
              "|       avg(Value)|\n",
              "+-----------------+\n",
              "|754.3538461538461|\n",
              "+-----------------+"
            ],
            "text/html": [
              "<table border='1'>\n",
              "<tr><th>avg(Value)</th></tr>\n",
              "<tr><td>754.3538461538461</td></tr>\n",
              "</table>\n"
            ]
          },
          "metadata": {},
          "execution_count": 44
        }
      ]
    },
    {
      "cell_type": "code",
      "metadata": {
        "id": "ZXKqzebR1E1K"
      },
      "source": [
        "# from pyspark.sql.types import IntegerType\n",
        "# from pyspark.sql.functions import udf\n",
        "\n",
        "# def round_float_down(x):\n",
        "#   return int(x)\n",
        "\n",
        "# round_float_down_udf = udf(round_float_down, IntegerType())\n",
        "\n",
        "# data_df.select('Value', round_float_down_udf('Value').alias('Nilai')).limit(5)"
      ],
      "execution_count": null,
      "outputs": []
    },
    {
      "cell_type": "code",
      "metadata": {
        "id": "MWPD_OVW3cuj"
      },
      "source": [
        "data_df.createOrReplaceTempView(\"industry\")"
      ],
      "execution_count": null,
      "outputs": []
    },
    {
      "cell_type": "code",
      "metadata": {
        "colab": {
          "base_uri": "https://localhost:8080/",
          "height": 878
        },
        "id": "KTd3cKm12fxz",
        "outputId": "658c3b97-f030-4d82-d4e9-48e4329c662f"
      },
      "source": [
        "spark.sql('select * from industry')"
      ],
      "execution_count": null,
      "outputs": [
        {
          "output_type": "execute_result",
          "data": {
            "text/plain": [
              "+----+---------------------------+--------------------+--------------------+------------------+-------------+--------------------+--------------------+---------+----------------------+\n",
              "|Year|Industry_aggregation_NZSIOC|Industry_code_NZSIOC|Industry_name_NZSIOC|             Units|Variable_code|       Variable_name|   Variable_category|    Value|Industry_code_ANZSIC06|\n",
              "+----+---------------------------+--------------------+--------------------+------------------+-------------+--------------------+--------------------+---------+----------------------+\n",
              "|2021|                    Level 1|               99999|      All industries|Dollars (millions)|          H01|        Total income|Financial perform...|  757,504|  ANZSIC06 division...|\n",
              "|2021|                    Level 1|               99999|      All industries|Dollars (millions)|          H04|Sales, government...|Financial perform...|  674,890|  ANZSIC06 division...|\n",
              "|2021|                    Level 1|               99999|      All industries|Dollars (millions)|          H05|Interest, dividen...|Financial perform...|   49,593|  ANZSIC06 division...|\n",
              "|2021|                    Level 1|               99999|      All industries|Dollars (millions)|          H07|Non-operating income|Financial perform...|   33,020|  ANZSIC06 division...|\n",
              "|2021|                    Level 1|               99999|      All industries|Dollars (millions)|          H08|   Total expenditure|Financial perform...|  654,404|  ANZSIC06 division...|\n",
              "|2021|                    Level 1|               99999|      All industries|Dollars (millions)|          H09|Interest and dona...|Financial perform...|   26,138|  ANZSIC06 division...|\n",
              "|2021|                    Level 1|               99999|      All industries|Dollars (millions)|          H10|      Indirect taxes|Financial perform...|    6,991|  ANZSIC06 division...|\n",
              "|2021|                    Level 1|               99999|      All industries|Dollars (millions)|          H11|        Depreciation|Financial perform...|   27,801|  ANZSIC06 division...|\n",
              "|2021|                    Level 1|               99999|      All industries|Dollars (millions)|          H12|Salaries and wage...|Financial perform...|  123,620|  ANZSIC06 division...|\n",
              "|2021|                    Level 1|               99999|      All industries|Dollars (millions)|          H13|Redundancy and se...|Financial perform...|      275|  ANZSIC06 division...|\n",
              "|2021|                    Level 1|               99999|      All industries|Dollars (millions)|          H14|Salaries and wage...|Financial perform...|    2,085|  ANZSIC06 division...|\n",
              "|2021|                    Level 1|               99999|      All industries|Dollars (millions)|          H19|Purchases and oth...|Financial perform...|  452,963|  ANZSIC06 division...|\n",
              "|2021|                    Level 1|               99999|      All industries|Dollars (millions)|          H20|Non-operating exp...|Financial perform...|   14,806|  ANZSIC06 division...|\n",
              "|2021|                    Level 1|               99999|      All industries|Dollars (millions)|          H21|      Opening stocks|Financial perform...|   68,896|  ANZSIC06 division...|\n",
              "|2021|                    Level 1|               99999|      All industries|Dollars (millions)|          H22|      Closing stocks|Financial perform...|   69,127|  ANZSIC06 division...|\n",
              "|2021|                    Level 1|               99999|      All industries|Dollars (millions)|          H23|Surplus before in...|Financial perform...|  103,330|  ANZSIC06 division...|\n",
              "|2021|                    Level 1|               99999|      All industries|Dollars (millions)|          H24|        Total assets|  Financial position|2,512,677|  ANZSIC06 division...|\n",
              "|2021|                    Level 1|               99999|      All industries|Dollars (millions)|          H25|      Current assets|  Financial position|  730,587|  ANZSIC06 division...|\n",
              "|2021|                    Level 1|               99999|      All industries|Dollars (millions)|          H26|Fixed tangible as...|  Financial position|  591,351|  ANZSIC06 division...|\n",
              "|2021|                    Level 1|               99999|      All industries|Dollars (millions)|          H29|        Other assets|  Financial position|1,190,739|  ANZSIC06 division...|\n",
              "+----+---------------------------+--------------------+--------------------+------------------+-------------+--------------------+--------------------+---------+----------------------+\n",
              "only showing top 20 rows"
            ],
            "text/html": [
              "<table border='1'>\n",
              "<tr><th>Year</th><th>Industry_aggregation_NZSIOC</th><th>Industry_code_NZSIOC</th><th>Industry_name_NZSIOC</th><th>Units</th><th>Variable_code</th><th>Variable_name</th><th>Variable_category</th><th>Value</th><th>Industry_code_ANZSIC06</th></tr>\n",
              "<tr><td>2021</td><td>Level 1</td><td>99999</td><td>All industries</td><td>Dollars (millions)</td><td>H01</td><td>Total income</td><td>Financial perform...</td><td>757,504</td><td>ANZSIC06 division...</td></tr>\n",
              "<tr><td>2021</td><td>Level 1</td><td>99999</td><td>All industries</td><td>Dollars (millions)</td><td>H04</td><td>Sales, government...</td><td>Financial perform...</td><td>674,890</td><td>ANZSIC06 division...</td></tr>\n",
              "<tr><td>2021</td><td>Level 1</td><td>99999</td><td>All industries</td><td>Dollars (millions)</td><td>H05</td><td>Interest, dividen...</td><td>Financial perform...</td><td>49,593</td><td>ANZSIC06 division...</td></tr>\n",
              "<tr><td>2021</td><td>Level 1</td><td>99999</td><td>All industries</td><td>Dollars (millions)</td><td>H07</td><td>Non-operating income</td><td>Financial perform...</td><td>33,020</td><td>ANZSIC06 division...</td></tr>\n",
              "<tr><td>2021</td><td>Level 1</td><td>99999</td><td>All industries</td><td>Dollars (millions)</td><td>H08</td><td>Total expenditure</td><td>Financial perform...</td><td>654,404</td><td>ANZSIC06 division...</td></tr>\n",
              "<tr><td>2021</td><td>Level 1</td><td>99999</td><td>All industries</td><td>Dollars (millions)</td><td>H09</td><td>Interest and dona...</td><td>Financial perform...</td><td>26,138</td><td>ANZSIC06 division...</td></tr>\n",
              "<tr><td>2021</td><td>Level 1</td><td>99999</td><td>All industries</td><td>Dollars (millions)</td><td>H10</td><td>Indirect taxes</td><td>Financial perform...</td><td>6,991</td><td>ANZSIC06 division...</td></tr>\n",
              "<tr><td>2021</td><td>Level 1</td><td>99999</td><td>All industries</td><td>Dollars (millions)</td><td>H11</td><td>Depreciation</td><td>Financial perform...</td><td>27,801</td><td>ANZSIC06 division...</td></tr>\n",
              "<tr><td>2021</td><td>Level 1</td><td>99999</td><td>All industries</td><td>Dollars (millions)</td><td>H12</td><td>Salaries and wage...</td><td>Financial perform...</td><td>123,620</td><td>ANZSIC06 division...</td></tr>\n",
              "<tr><td>2021</td><td>Level 1</td><td>99999</td><td>All industries</td><td>Dollars (millions)</td><td>H13</td><td>Redundancy and se...</td><td>Financial perform...</td><td>275</td><td>ANZSIC06 division...</td></tr>\n",
              "<tr><td>2021</td><td>Level 1</td><td>99999</td><td>All industries</td><td>Dollars (millions)</td><td>H14</td><td>Salaries and wage...</td><td>Financial perform...</td><td>2,085</td><td>ANZSIC06 division...</td></tr>\n",
              "<tr><td>2021</td><td>Level 1</td><td>99999</td><td>All industries</td><td>Dollars (millions)</td><td>H19</td><td>Purchases and oth...</td><td>Financial perform...</td><td>452,963</td><td>ANZSIC06 division...</td></tr>\n",
              "<tr><td>2021</td><td>Level 1</td><td>99999</td><td>All industries</td><td>Dollars (millions)</td><td>H20</td><td>Non-operating exp...</td><td>Financial perform...</td><td>14,806</td><td>ANZSIC06 division...</td></tr>\n",
              "<tr><td>2021</td><td>Level 1</td><td>99999</td><td>All industries</td><td>Dollars (millions)</td><td>H21</td><td>Opening stocks</td><td>Financial perform...</td><td>68,896</td><td>ANZSIC06 division...</td></tr>\n",
              "<tr><td>2021</td><td>Level 1</td><td>99999</td><td>All industries</td><td>Dollars (millions)</td><td>H22</td><td>Closing stocks</td><td>Financial perform...</td><td>69,127</td><td>ANZSIC06 division...</td></tr>\n",
              "<tr><td>2021</td><td>Level 1</td><td>99999</td><td>All industries</td><td>Dollars (millions)</td><td>H23</td><td>Surplus before in...</td><td>Financial perform...</td><td>103,330</td><td>ANZSIC06 division...</td></tr>\n",
              "<tr><td>2021</td><td>Level 1</td><td>99999</td><td>All industries</td><td>Dollars (millions)</td><td>H24</td><td>Total assets</td><td>Financial position</td><td>2,512,677</td><td>ANZSIC06 division...</td></tr>\n",
              "<tr><td>2021</td><td>Level 1</td><td>99999</td><td>All industries</td><td>Dollars (millions)</td><td>H25</td><td>Current assets</td><td>Financial position</td><td>730,587</td><td>ANZSIC06 division...</td></tr>\n",
              "<tr><td>2021</td><td>Level 1</td><td>99999</td><td>All industries</td><td>Dollars (millions)</td><td>H26</td><td>Fixed tangible as...</td><td>Financial position</td><td>591,351</td><td>ANZSIC06 division...</td></tr>\n",
              "<tr><td>2021</td><td>Level 1</td><td>99999</td><td>All industries</td><td>Dollars (millions)</td><td>H29</td><td>Other assets</td><td>Financial position</td><td>1,190,739</td><td>ANZSIC06 division...</td></tr>\n",
              "</table>\n",
              "only showing top 20 rows\n"
            ]
          },
          "metadata": {},
          "execution_count": 52
        }
      ]
    },
    {
      "cell_type": "code",
      "metadata": {
        "id": "DBEUfMqC3ioi"
      },
      "source": [],
      "execution_count": null,
      "outputs": []
    }
  ]
}